{
  "cells": [
    {
      "cell_type": "markdown",
      "id": "886ecf617821eeae",
      "metadata": {
        "id": "886ecf617821eeae"
      },
      "source": [
        "## Подключение библиотек"
      ]
    },
    {
      "cell_type": "code",
      "execution_count": null,
      "id": "initial_id",
      "metadata": {
        "id": "initial_id"
      },
      "outputs": [],
      "source": [
        "# Подключение библиотек\n",
        "import warnings\n",
        "warnings.filterwarnings(\"ignore\")\n",
        "import pandas as pd\n",
        "import numpy as np\n",
        "import nltk\n",
        "from nltk.corpus import stopwords\n",
        "import re\n",
        "import os\n",
        "from transformers import (\n",
        "    BertTokenizerFast,\n",
        "    BertForSequenceClassification,\n",
        "    Trainer,\n",
        "    TrainingArguments\n",
        ")\n",
        "from sklearn.metrics import (\n",
        "    accuracy_score,\n",
        "    precision_recall_fscore_support,\n",
        "    classification_report,\n",
        "    confusion_matrix\n",
        ")\n",
        "from sklearn.model_selection import train_test_split\n",
        "import torch\n",
        "import seaborn as sns\n",
        "import matplotlib.pyplot as plt\n",
        "\n"
      ]
    },
    {
      "cell_type": "markdown",
      "id": "c6074938dd11415e",
      "metadata": {
        "id": "c6074938dd11415e"
      },
      "source": [
        "## Считывание файлов с новостями"
      ]
    },
    {
      "cell_type": "code",
      "execution_count": null,
      "id": "a68b11b526cd0a9",
      "metadata": {
        "colab": {
          "base_uri": "https://localhost:8080/",
          "height": 204
        },
        "id": "a68b11b526cd0a9",
        "outputId": "4e1e44ef-0db9-47ef-f14a-45f022a353a0"
      },
      "outputs": [
        {
          "output_type": "execute_result",
          "data": {
            "text/plain": [
              "                                                   text   label\n",
              "9825  Гюльчехра Бобокулова станет новой наставницей ...    Ложь\n",
              "9659  Чиновник 15 лет не являлся в суд по делу о кор...    Ложь\n",
              "1115  Певица Лолита Милявская высмеяла видео телевед...  Правда\n",
              "3447  Одиноких людей можно выявить по постам в соцсе...  Правда\n",
              "3664  Северная Македония получила от Италии на безмо...  Правда"
            ],
            "text/html": [
              "\n",
              "  <div id=\"df-45a964b0-fd78-4064-a6fa-809da8dee26e\" class=\"colab-df-container\">\n",
              "    <div>\n",
              "<style scoped>\n",
              "    .dataframe tbody tr th:only-of-type {\n",
              "        vertical-align: middle;\n",
              "    }\n",
              "\n",
              "    .dataframe tbody tr th {\n",
              "        vertical-align: top;\n",
              "    }\n",
              "\n",
              "    .dataframe thead th {\n",
              "        text-align: right;\n",
              "    }\n",
              "</style>\n",
              "<table border=\"1\" class=\"dataframe\">\n",
              "  <thead>\n",
              "    <tr style=\"text-align: right;\">\n",
              "      <th></th>\n",
              "      <th>text</th>\n",
              "      <th>label</th>\n",
              "    </tr>\n",
              "  </thead>\n",
              "  <tbody>\n",
              "    <tr>\n",
              "      <th>9825</th>\n",
              "      <td>Гюльчехра Бобокулова станет новой наставницей ...</td>\n",
              "      <td>Ложь</td>\n",
              "    </tr>\n",
              "    <tr>\n",
              "      <th>9659</th>\n",
              "      <td>Чиновник 15 лет не являлся в суд по делу о кор...</td>\n",
              "      <td>Ложь</td>\n",
              "    </tr>\n",
              "    <tr>\n",
              "      <th>1115</th>\n",
              "      <td>Певица Лолита Милявская высмеяла видео телевед...</td>\n",
              "      <td>Правда</td>\n",
              "    </tr>\n",
              "    <tr>\n",
              "      <th>3447</th>\n",
              "      <td>Одиноких людей можно выявить по постам в соцсе...</td>\n",
              "      <td>Правда</td>\n",
              "    </tr>\n",
              "    <tr>\n",
              "      <th>3664</th>\n",
              "      <td>Северная Македония получила от Италии на безмо...</td>\n",
              "      <td>Правда</td>\n",
              "    </tr>\n",
              "  </tbody>\n",
              "</table>\n",
              "</div>\n",
              "    <div class=\"colab-df-buttons\">\n",
              "\n",
              "  <div class=\"colab-df-container\">\n",
              "    <button class=\"colab-df-convert\" onclick=\"convertToInteractive('df-45a964b0-fd78-4064-a6fa-809da8dee26e')\"\n",
              "            title=\"Convert this dataframe to an interactive table.\"\n",
              "            style=\"display:none;\">\n",
              "\n",
              "  <svg xmlns=\"http://www.w3.org/2000/svg\" height=\"24px\" viewBox=\"0 -960 960 960\">\n",
              "    <path d=\"M120-120v-720h720v720H120Zm60-500h600v-160H180v160Zm220 220h160v-160H400v160Zm0 220h160v-160H400v160ZM180-400h160v-160H180v160Zm440 0h160v-160H620v160ZM180-180h160v-160H180v160Zm440 0h160v-160H620v160Z\"/>\n",
              "  </svg>\n",
              "    </button>\n",
              "\n",
              "  <style>\n",
              "    .colab-df-container {\n",
              "      display:flex;\n",
              "      gap: 12px;\n",
              "    }\n",
              "\n",
              "    .colab-df-convert {\n",
              "      background-color: #E8F0FE;\n",
              "      border: none;\n",
              "      border-radius: 50%;\n",
              "      cursor: pointer;\n",
              "      display: none;\n",
              "      fill: #1967D2;\n",
              "      height: 32px;\n",
              "      padding: 0 0 0 0;\n",
              "      width: 32px;\n",
              "    }\n",
              "\n",
              "    .colab-df-convert:hover {\n",
              "      background-color: #E2EBFA;\n",
              "      box-shadow: 0px 1px 2px rgba(60, 64, 67, 0.3), 0px 1px 3px 1px rgba(60, 64, 67, 0.15);\n",
              "      fill: #174EA6;\n",
              "    }\n",
              "\n",
              "    .colab-df-buttons div {\n",
              "      margin-bottom: 4px;\n",
              "    }\n",
              "\n",
              "    [theme=dark] .colab-df-convert {\n",
              "      background-color: #3B4455;\n",
              "      fill: #D2E3FC;\n",
              "    }\n",
              "\n",
              "    [theme=dark] .colab-df-convert:hover {\n",
              "      background-color: #434B5C;\n",
              "      box-shadow: 0px 1px 3px 1px rgba(0, 0, 0, 0.15);\n",
              "      filter: drop-shadow(0px 1px 2px rgba(0, 0, 0, 0.3));\n",
              "      fill: #FFFFFF;\n",
              "    }\n",
              "  </style>\n",
              "\n",
              "    <script>\n",
              "      const buttonEl =\n",
              "        document.querySelector('#df-45a964b0-fd78-4064-a6fa-809da8dee26e button.colab-df-convert');\n",
              "      buttonEl.style.display =\n",
              "        google.colab.kernel.accessAllowed ? 'block' : 'none';\n",
              "\n",
              "      async function convertToInteractive(key) {\n",
              "        const element = document.querySelector('#df-45a964b0-fd78-4064-a6fa-809da8dee26e');\n",
              "        const dataTable =\n",
              "          await google.colab.kernel.invokeFunction('convertToInteractive',\n",
              "                                                    [key], {});\n",
              "        if (!dataTable) return;\n",
              "\n",
              "        const docLinkHtml = 'Like what you see? Visit the ' +\n",
              "          '<a target=\"_blank\" href=https://colab.research.google.com/notebooks/data_table.ipynb>data table notebook</a>'\n",
              "          + ' to learn more about interactive tables.';\n",
              "        element.innerHTML = '';\n",
              "        dataTable['output_type'] = 'display_data';\n",
              "        await google.colab.output.renderOutput(dataTable, element);\n",
              "        const docLink = document.createElement('div');\n",
              "        docLink.innerHTML = docLinkHtml;\n",
              "        element.appendChild(docLink);\n",
              "      }\n",
              "    </script>\n",
              "  </div>\n",
              "\n",
              "\n",
              "    <div id=\"df-74493bdf-32d8-4378-bda3-0d0e6c71c8b5\">\n",
              "      <button class=\"colab-df-quickchart\" onclick=\"quickchart('df-74493bdf-32d8-4378-bda3-0d0e6c71c8b5')\"\n",
              "                title=\"Suggest charts\"\n",
              "                style=\"display:none;\">\n",
              "\n",
              "<svg xmlns=\"http://www.w3.org/2000/svg\" height=\"24px\"viewBox=\"0 0 24 24\"\n",
              "     width=\"24px\">\n",
              "    <g>\n",
              "        <path d=\"M19 3H5c-1.1 0-2 .9-2 2v14c0 1.1.9 2 2 2h14c1.1 0 2-.9 2-2V5c0-1.1-.9-2-2-2zM9 17H7v-7h2v7zm4 0h-2V7h2v10zm4 0h-2v-4h2v4z\"/>\n",
              "    </g>\n",
              "</svg>\n",
              "      </button>\n",
              "\n",
              "<style>\n",
              "  .colab-df-quickchart {\n",
              "      --bg-color: #E8F0FE;\n",
              "      --fill-color: #1967D2;\n",
              "      --hover-bg-color: #E2EBFA;\n",
              "      --hover-fill-color: #174EA6;\n",
              "      --disabled-fill-color: #AAA;\n",
              "      --disabled-bg-color: #DDD;\n",
              "  }\n",
              "\n",
              "  [theme=dark] .colab-df-quickchart {\n",
              "      --bg-color: #3B4455;\n",
              "      --fill-color: #D2E3FC;\n",
              "      --hover-bg-color: #434B5C;\n",
              "      --hover-fill-color: #FFFFFF;\n",
              "      --disabled-bg-color: #3B4455;\n",
              "      --disabled-fill-color: #666;\n",
              "  }\n",
              "\n",
              "  .colab-df-quickchart {\n",
              "    background-color: var(--bg-color);\n",
              "    border: none;\n",
              "    border-radius: 50%;\n",
              "    cursor: pointer;\n",
              "    display: none;\n",
              "    fill: var(--fill-color);\n",
              "    height: 32px;\n",
              "    padding: 0;\n",
              "    width: 32px;\n",
              "  }\n",
              "\n",
              "  .colab-df-quickchart:hover {\n",
              "    background-color: var(--hover-bg-color);\n",
              "    box-shadow: 0 1px 2px rgba(60, 64, 67, 0.3), 0 1px 3px 1px rgba(60, 64, 67, 0.15);\n",
              "    fill: var(--button-hover-fill-color);\n",
              "  }\n",
              "\n",
              "  .colab-df-quickchart-complete:disabled,\n",
              "  .colab-df-quickchart-complete:disabled:hover {\n",
              "    background-color: var(--disabled-bg-color);\n",
              "    fill: var(--disabled-fill-color);\n",
              "    box-shadow: none;\n",
              "  }\n",
              "\n",
              "  .colab-df-spinner {\n",
              "    border: 2px solid var(--fill-color);\n",
              "    border-color: transparent;\n",
              "    border-bottom-color: var(--fill-color);\n",
              "    animation:\n",
              "      spin 1s steps(1) infinite;\n",
              "  }\n",
              "\n",
              "  @keyframes spin {\n",
              "    0% {\n",
              "      border-color: transparent;\n",
              "      border-bottom-color: var(--fill-color);\n",
              "      border-left-color: var(--fill-color);\n",
              "    }\n",
              "    20% {\n",
              "      border-color: transparent;\n",
              "      border-left-color: var(--fill-color);\n",
              "      border-top-color: var(--fill-color);\n",
              "    }\n",
              "    30% {\n",
              "      border-color: transparent;\n",
              "      border-left-color: var(--fill-color);\n",
              "      border-top-color: var(--fill-color);\n",
              "      border-right-color: var(--fill-color);\n",
              "    }\n",
              "    40% {\n",
              "      border-color: transparent;\n",
              "      border-right-color: var(--fill-color);\n",
              "      border-top-color: var(--fill-color);\n",
              "    }\n",
              "    60% {\n",
              "      border-color: transparent;\n",
              "      border-right-color: var(--fill-color);\n",
              "    }\n",
              "    80% {\n",
              "      border-color: transparent;\n",
              "      border-right-color: var(--fill-color);\n",
              "      border-bottom-color: var(--fill-color);\n",
              "    }\n",
              "    90% {\n",
              "      border-color: transparent;\n",
              "      border-bottom-color: var(--fill-color);\n",
              "    }\n",
              "  }\n",
              "</style>\n",
              "\n",
              "      <script>\n",
              "        async function quickchart(key) {\n",
              "          const quickchartButtonEl =\n",
              "            document.querySelector('#' + key + ' button');\n",
              "          quickchartButtonEl.disabled = true;  // To prevent multiple clicks.\n",
              "          quickchartButtonEl.classList.add('colab-df-spinner');\n",
              "          try {\n",
              "            const charts = await google.colab.kernel.invokeFunction(\n",
              "                'suggestCharts', [key], {});\n",
              "          } catch (error) {\n",
              "            console.error('Error during call to suggestCharts:', error);\n",
              "          }\n",
              "          quickchartButtonEl.classList.remove('colab-df-spinner');\n",
              "          quickchartButtonEl.classList.add('colab-df-quickchart-complete');\n",
              "        }\n",
              "        (() => {\n",
              "          let quickchartButtonEl =\n",
              "            document.querySelector('#df-74493bdf-32d8-4378-bda3-0d0e6c71c8b5 button');\n",
              "          quickchartButtonEl.style.display =\n",
              "            google.colab.kernel.accessAllowed ? 'block' : 'none';\n",
              "        })();\n",
              "      </script>\n",
              "    </div>\n",
              "    </div>\n",
              "  </div>\n"
            ],
            "application/vnd.google.colaboratory.intrinsic+json": {
              "type": "dataframe",
              "summary": "{\n  \"name\": \"df\",\n  \"rows\": 5,\n  \"fields\": [\n    {\n      \"column\": \"text\",\n      \"properties\": {\n        \"dtype\": \"string\",\n        \"num_unique_values\": 5,\n        \"samples\": [\n          \"\\u0427\\u0438\\u043d\\u043e\\u0432\\u043d\\u0438\\u043a 15 \\u043b\\u0435\\u0442 \\u043d\\u0435 \\u044f\\u0432\\u043b\\u044f\\u043b\\u0441\\u044f \\u0432 \\u0441\\u0443\\u0434 \\u043f\\u043e \\u0434\\u0435\\u043b\\u0443 \\u043e \\u043a\\u043e\\u0440\\u0440\\u0443\\u043f\\u0446\\u0438\\u0438 \\u0438\\u0437-\\u0437\\u0430 \\u043f\\u043e\\u0441\\u0442\\u043e\\u044f\\u043d\\u043d\\u044b\\u0445 \\u0431\\u043e\\u043b\\u0435\\u0437\\u043d\\u0435\\u0439\",\n          \"\\u0421\\u0435\\u0432\\u0435\\u0440\\u043d\\u0430\\u044f \\u041c\\u0430\\u043a\\u0435\\u0434\\u043e\\u043d\\u0438\\u044f \\u043f\\u043e\\u043b\\u0443\\u0447\\u0438\\u043b\\u0430 \\u043e\\u0442 \\u0418\\u0442\\u0430\\u043b\\u0438\\u0438 \\u043d\\u0430 \\u0431\\u0435\\u0437\\u043c\\u043e\\u0437\\u043c\\u0435\\u0437\\u043d\\u043e\\u0439 \\u043e\\u0441\\u043d\\u043e\\u0432\\u0435 250 \\u0442\\u044b\\u0441. \\u0434\\u043e\\u0437 \\u0432\\u0430\\u043a\\u0446\\u0438\\u043d\\u044b Pfizer. \\u041e\\u0431 \\u044d\\u0442\\u043e\\u043c \\u0441\\u043e \\u0441\\u0441\\u044b\\u043b\\u043a\\u043e\\u0439 \\u043d\\u0430 \\u043c\\u0438\\u043d\\u0438\\u0441\\u0442\\u0440\\u0430 \\u0437\\u0434\\u0440\\u0430\\u0432\\u043e\\u043e\\u0445\\u0440\\u0430\\u043d\\u0435\\u043d\\u0438\\u044f \\u0440\\u0435\\u0441\\u043f\\u0443\\u0431\\u043b\\u0438\\u043a\\u0438 \\u0411\\u0435\\u043a\\u0438\\u043c\\u0430 \\u0421\\u0430\\u043b\\u0438 \\u0441\\u043e\\u043e\\u0431\\u0449\\u0438\\u043b \\u0432 \\u043f\\u043e\\u043d\\u0435\\u0434\\u0435\\u043b\\u044c\\u043d\\u0438\\u043a \\u0441\\u0435\\u0432\\u0435\\u0440\\u043e\\u043c\\u0430\\u043a\\u0435\\u0434\\u043e\\u043d\\u0441\\u043a\\u0438\\u0439 \\u0442\\u0435\\u043b\\u0435\\u043a\\u0430\\u043d\\u0430\\u043b TV Nova.\\\"[\\u041d\\u0430\\u0448\\u0430] \\u0431\\u043b\\u0430\\u0433\\u043e\\u0434\\u0430\\u0440\\u043d\\u043e\\u0441\\u0442\\u044c \\u0438\\u0442\\u0430\\u043b\\u044c\\u044f\\u043d\\u0441\\u043a\\u043e\\u043c\\u0443 \\u043f\\u0440\\u0430\\u0432\\u0438\\u0442\\u0435\\u043b\\u044c\\u0441\\u0442\\u0432\\u0443 \\u0437\\u0430 \\u043f\\u043e\\u043c\\u043e\\u0449\\u044c, - \\u043f\\u043e\\u0434\\u0447\\u0435\\u0440\\u043a\\u043d\\u0443\\u043b \\u0421\\u0430\\u043b\\u0438. - \\u041c\\u044b \\u0437\\u0430\\u0431\\u043e\\u0442\\u0438\\u043c\\u0441\\u044f \\u043e \\u0442\\u043e\\u043c, \\u0447\\u0442\\u043e\\u0431\\u044b \\u043d\\u0430 \\u043f\\u043e\\u0441\\u0442\\u043e\\u044f\\u043d\\u043d\\u043e\\u0439 \\u043e\\u0441\\u043d\\u043e\\u0432\\u0435 \\u0438\\u043c\\u0435\\u0442\\u044c \\u0434\\u043e\\u0441\\u0442\\u0430\\u0442\\u043e\\u0447\\u043d\\u043e\\u0435 \\u043a\\u043e\\u043b\\u0438\\u0447\\u0435\\u0441\\u0442\\u0432\\u043e \\u0432\\u0430\\u043a\\u0446\\u0438\\u043d. \\u0415\\u0434\\u0438\\u043d\\u0441\\u0442\\u0432\\u0435\\u043d\\u043d\\u044b\\u0439 \\u0441\\u043f\\u043e\\u0441\\u043e\\u0431 \\u0437\\u0430\\u0449\\u0438\\u0442\\u044b \\u043e\\u0442 COVID-19 - \\u044d\\u0442\\u043e \\u0432\\u0430\\u043a\\u0446\\u0438\\u043d\\u0430\\u0446\\u0438\\u044f\\\".\",\n          \"\\u041f\\u0435\\u0432\\u0438\\u0446\\u0430 \\u041b\\u043e\\u043b\\u0438\\u0442\\u0430 \\u041c\\u0438\\u043b\\u044f\\u0432\\u0441\\u043a\\u0430\\u044f \\u0432\\u044b\\u0441\\u043c\\u0435\\u044f\\u043b\\u0430 \\u0432\\u0438\\u0434\\u0435\\u043e \\u0442\\u0435\\u043b\\u0435\\u0432\\u0435\\u0434\\u0443\\u0449\\u0435\\u0439 \\u0438 \\u0431\\u043b\\u043e\\u0433\\u0435\\u0440\\u0448\\u0438 \\u0412\\u0438\\u043a\\u0442\\u043e\\u0440\\u0438\\u0438 \\u0411\\u043e\\u043d\\u0438, \\u0432 \\u043a\\u043e\\u0442\\u043e\\u0440\\u043e\\u043c \\u0442\\u0430 \\u0440\\u0430\\u0441\\u0441\\u0443\\u0436\\u0434\\u0430\\u043b\\u0430 \\u043d\\u0430 \\u0444\\u0438\\u043b\\u043e\\u0441\\u043e\\u0444\\u0441\\u043a\\u0438\\u0435 \\u0442\\u0435\\u043c\\u044b. \\u0421\\u043e\\u043e\\u0442\\u0432\\u0435\\u0442\\u0441\\u0442\\u0432\\u0443\\u044e\\u0449\\u0438\\u0439 \\u0440\\u043e\\u043b\\u0438\\u043a \\u0430\\u0440\\u0442\\u0438\\u0441\\u0442\\u043a\\u0430 \\u043e\\u043f\\u0443\\u0431\\u043b\\u0438\\u043a\\u043e\\u0432\\u0430\\u043b\\u0430 \\u0432 Instagram (\\u0441\\u043e\\u0446\\u0441\\u0435\\u0442\\u044c \\u0437\\u0430\\u043f\\u0440\\u0435\\u0449\\u0435\\u043d\\u0430 \\u0432 \\u0420\\u0424; \\u043f\\u0440\\u0438\\u043d\\u0430\\u0434\\u043b\\u0435\\u0436\\u0438\\u0442 \\u043a\\u043e\\u0440\\u043f\\u043e\\u0440\\u0430\\u0446\\u0438\\u0438 Meta, \\u043a\\u043e\\u0442\\u043e\\u0440\\u0430\\u044f \\u043f\\u0440\\u0438\\u0437\\u043d\\u0430\\u043d\\u0430 \\u0432 \\u0420\\u043e\\u0441\\u0441\\u0438\\u0438 \\u044d\\u043a\\u0441\\u0442\\u0440\\u0435\\u043c\\u0438\\u0441\\u0442\\u0441\\u043a\\u043e\\u0439 \\u0438 \\u0437\\u0430\\u043f\\u0440\\u0435\\u0449\\u0435\\u043d\\u0430). \\u00ab\\u041d\\u043e\\u0432\\u043e\\u0435 \\u0444\\u0438\\u043b\\u043e\\u0441\\u043e\\u0444\\u0441\\u043a\\u043e\\u0435 \\u0442\\u0435\\u0447\\u0435\\u043d\\u0438\\u0435 \\\"\\u0411\\u043e\\u043d\\u0438\\u0437\\u043c\\\" \\u0431\\u0435\\u0437 \\u0415\\u00bb, \\u2014 \\u043f\\u043e\\u0434\\u043f\\u0438\\u0441\\u0430\\u043b\\u0430 \\u041b\\u043e\\u043b\\u0438\\u0442\\u0430 \\u0432\\u0438\\u0434\\u0435\\u043e, \\u043d\\u0430 \\u043a\\u043e\\u0442\\u043e\\u0440\\u043e\\u043c \\u043e\\u043d\\u0430 \\u0441\\u043c\\u043e\\u0442\\u0440\\u0438\\u0442 \\u0437\\u0430\\u043f\\u0438\\u0441\\u044c \\u0441 \\u0443\\u0447\\u0430\\u0441\\u0442\\u0438\\u0435\\u043c \\u0411\\u043e\\u043d\\u0438. \\u00ab\\u0427\\u0442\\u043e \\u0442\\u0430\\u043a\\u043e\\u0435 \\u0443\\u043c? \\u0423\\u043c \\u2014 \\u044d\\u0442\\u043e \\u043c\\u044b\\u0441\\u043b\\u044c, \\u0430 \\u043c\\u044b\\u0441\\u043b\\u044c \\u2014 \\u044d\\u0442\\u043e \\u043c\\u0435\\u0440\\u0430 \\u0438\\u0437\\u043c\\u0435\\u0440\\u0435\\u043d\\u0438\\u044f, \\u0442\\u043e \\u0435\\u0441\\u0442\\u044c \\u0443\\u043c \\u0432\\u0441\\u0435\\u0433\\u0434\\u0430 \\u0432\\u043c\\u0435\\u0448\\u0438\\u0432\\u0430\\u0435\\u0442\\u0441\\u044f, \\u0432\\u0441\\u0435\\u0433\\u0434\\u0430 \\u0447\\u0442\\u043e-\\u0442\\u043e \\u0441\\u0440\\u0430\\u0432\\u043d\\u0438\\u0432\\u0430\\u0435\\u0442, \\u043f\\u043e\\u043b\\u0443\\u0447\\u0430\\u0435\\u0442\\u0441\\u044f, \\u0447\\u0442\\u043e \\u043c\\u044b\\u0441\\u043b\\u044c \\u2014 \\u044d\\u0442\\u043e \\u0438\\u043d\\u0441\\u0442\\u0440\\u0443\\u043c\\u0435\\u043d\\u0442 \\u0434\\u043b\\u044f \\u0438\\u0437\\u043c\\u0435\\u0440\\u0435\\u043d\\u0438\\u044f, \\u0438 \\u043a\\u043e\\u0433\\u0434\\u0430 \\u043c\\u044b \\u0441\\u043c\\u043e\\u0442\\u0440\\u0438\\u043c \\u043d\\u0430 \\u043c\\u0438\\u0440, \\u043c\\u044b \\u0435\\u0433\\u043e \\u0438\\u0437\\u043c\\u0435\\u0440\\u044f\\u0435\\u043c, \\u043d\\u0430 \\u043c\\u0438\\u0440 \\u043d\\u0443\\u0436\\u043d\\u043e \\u0441\\u043c\\u043e\\u0442\\u0440\\u0435\\u0442\\u044c, \\u0430 \\u043d\\u0435 \\u0438\\u0437\\u043c\\u0435\\u0440\\u044f\\u0442\\u044c \\u0435\\u0433\\u043e. \\u041a\\u043e\\u0433\\u0434\\u0430 \\u043c\\u044b \\u0441\\u043c\\u043e\\u0442\\u0440\\u0438\\u043c \\u043d\\u0430 \\u0434\\u0435\\u0440\\u0435\\u0432\\u043e, \\u043c\\u044b \\u0434\\u0443\\u043c\\u0430\\u0435\\u043c, \\u0447\\u0442\\u043e \\u043e\\u043d\\u043e \\u0437\\u0435\\u043b\\u0435\\u043d\\u043e\\u0435, \\u043c\\u044b \\u0432\\u0438\\u0434\\u0438\\u043c \\u0444\\u043e\\u0440\\u043c\\u0443, \\u043e\\u0431\\u044a\\u0435\\u043c, \\u0446\\u0432\\u0435\\u0442. \\u041f\\u043e\\u043b\\u0443\\u0447\\u0430\\u0435\\u0442\\u0441\\u044f, \\u0447\\u0442\\u043e \\u0432\\u044b\\u0432\\u043e\\u0434\\u044b \\u2014 \\u044d\\u0442\\u043e \\u043d\\u0438\\u0447\\u0442\\u043e \\u0438\\u043d\\u043e\\u0435, \\u043a\\u0430\\u043a \\u043f\\u043e\\u0442\\u043e\\u043a \\u043c\\u044b\\u0441\\u043b\\u0435\\u0439, \\u0430 \\u043c\\u044b\\u0441\\u043b\\u044c \\u0438\\u0434\\u0435\\u0442 \\u0438\\u0437 \\u043f\\u0440\\u043e\\u0448\\u043b\\u043e\\u0433\\u043e, \\u0430 \\u043f\\u0440\\u043e\\u0448\\u043b\\u043e\\u0435 \\u2014 \\u044d\\u0442\\u043e \\u0432\\u043e\\u0441\\u043f\\u043e\\u043c\\u0438\\u043d\\u0430\\u043d\\u0438\\u0435, \\u0430 \\u0432\\u043e\\u0441\\u043f\\u043e\\u043c\\u0438\\u043d\\u0430\\u043d\\u0438\\u0435 \\u2014 \\u043e\\u043d\\u043e \\u043c\\u0435\\u0440\\u0442\\u0432\\u043e, \\u0438 \\u0442\\u0430\\u043a\\u0438\\u043c \\u043e\\u0431\\u0440\\u0430\\u0437\\u043e\\u043c, \\u0447\\u0435\\u0440\\u0435\\u0437 \\u0442\\u0435\\u0431\\u044f \\u043f\\u0440\\u043e\\u0442\\u0435\\u043a\\u0430\\u0435\\u0442 \\u0441\\u043c\\u0435\\u0440\\u0442\\u044c\\u00bb, \\u2014 \\u0441\\u043a\\u0430\\u0437\\u0430\\u043b\\u0430 \\u0442\\u0435\\u043b\\u0435\\u0432\\u0435\\u0434\\u0443\\u0449\\u0430\\u044f \\u0432 \\u0432\\u0438\\u0434\\u0435\\u043e, \\u043a\\u043e\\u0442\\u043e\\u0440\\u043e\\u0435 \\u0432\\u044b\\u0441\\u043c\\u0435\\u044f\\u043b\\u0430 \\u043f\\u0435\\u0432\\u0438\\u0446\\u0430. \\u00ab\\u0415\\u0441\\u043b\\u0438 \\u0443 \\u0442\\u0435\\u0431\\u044f \\u0434\\u0435\\u043c\\u0435\\u043d\\u0446\\u0438\\u044f, \\u0437\\u043d\\u0430\\u0447\\u0438\\u0442, \\u0442\\u044b \\u0436\\u0438\\u0432\\u043e\\u0439. \\u041f\\u0440\\u0430\\u0432\\u0434\\u0430?\\u00bb \\u2014 \\u043f\\u043e\\u0448\\u0443\\u0442\\u0438\\u043b\\u0430 \\u0432 \\u043e\\u0442\\u0432\\u0435\\u0442 \\u043d\\u0430 \\u0440\\u0435\\u0447\\u044c \\u0411\\u043e\\u043d\\u0438 \\u041b\\u043e\\u043b\\u0438\\u0442\\u0430. \\u0412\\u0438\\u043a\\u0442\\u043e\\u0440\\u0438\\u044f \\u0411\\u043e\\u043d\\u044f \\u2014 \\u0438\\u0437\\u0432\\u0435\\u0441\\u0442\\u043d\\u0430\\u044f \\u0442\\u0435\\u043b\\u0435\\u0432\\u0435\\u0434\\u0443\\u0449\\u0430\\u044f, \\u0431\\u044b\\u0432\\u0448\\u0430\\u044f \\u0443\\u0447\\u0430\\u0441\\u0442\\u043d\\u0438\\u0446\\u0430 \\u0440\\u0435\\u0430\\u043b\\u0438\\u0442\\u0438-\\u0448\\u043e\\u0443 \\u00ab\\u0414\\u043e\\u043c-2\\u00bb \\u043d\\u0430 \\u0442\\u0435\\u043b\\u0435\\u043a\\u0430\\u043d\\u0430\\u043b\\u0435 \\u0422\\u041d\\u0422 \\u0438 \\u0430\\u043a\\u0442\\u0440\\u0438\\u0441\\u0430. \\u041e\\u043d\\u0430 \\u0447\\u0430\\u0441\\u0442\\u043e \\u0440\\u0430\\u0441\\u0441\\u043a\\u0430\\u0437\\u044b\\u0432\\u0430\\u0435\\u0442 \\u043f\\u043e\\u0434\\u043f\\u0438\\u0441\\u0447\\u0438\\u043a\\u0430\\u043c \\u0432 \\u0441\\u043e\\u0446\\u0441\\u0435\\u0442\\u044f\\u0445 \\u043e \\u0434\\u0443\\u0445\\u043e\\u0432\\u043d\\u044b\\u0445 \\u043f\\u0440\\u0430\\u043a\\u0442\\u0438\\u043a\\u0430\\u0445 \\u0438\\u0437 \\u043d\\u0435\\u0442\\u0440\\u0430\\u0434\\u0438\\u0446\\u0438\\u043e\\u043d\\u043d\\u043e\\u0439 \\u043c\\u0435\\u0434\\u0438\\u0446\\u0438\\u043d\\u044b, \\u0437\\u0430 \\u043f\\u0440\\u043e\\u043f\\u0430\\u0433\\u0430\\u043d\\u0434\\u0443 \\u043a\\u043e\\u0442\\u043e\\u0440\\u044b\\u0445 \\u0435\\u0435 \\u0447\\u0430\\u0441\\u0442\\u043e \\u043a\\u0440\\u0438\\u0442\\u0438\\u043a\\u0443\\u044e\\u0442. \\u0412 2020 \\u0433\\u043e\\u0434\\u0443 \\u0411\\u043e\\u043d\\u044f \\u0440\\u0430\\u0441\\u043f\\u0440\\u043e\\u0441\\u0442\\u0440\\u0430\\u043d\\u044f\\u043b\\u0430 \\u043a\\u043e\\u043d\\u0441\\u043f\\u0438\\u0440\\u043e\\u043b\\u043e\\u0433\\u0438\\u0447\\u0435\\u0441\\u043a\\u0443\\u044e \\u0442\\u0435\\u043e\\u0440\\u0438\\u044e \\u043e \\u0442\\u043e\\u043c, \\u0447\\u0442\\u043e \\u043a\\u043e\\u0440\\u043e\\u043d\\u0430\\u0432\\u0438\\u0440\\u0443\\u0441 \\u0441\\u0432\\u044f\\u0437\\u0430\\u043d \\u0441 \\u0432\\u044b\\u0448\\u043a\\u0430\\u043c\\u0438 \\u0441\\u0432\\u044f\\u0437\\u0438 5G.\"\n        ],\n        \"semantic_type\": \"\",\n        \"description\": \"\"\n      }\n    },\n    {\n      \"column\": \"label\",\n      \"properties\": {\n        \"dtype\": \"category\",\n        \"num_unique_values\": 2,\n        \"samples\": [\n          \"\\u041f\\u0440\\u0430\\u0432\\u0434\\u0430\",\n          \"\\u041b\\u043e\\u0436\\u044c\"\n        ],\n        \"semantic_type\": \"\",\n        \"description\": \"\"\n      }\n    }\n  ]\n}"
            }
          },
          "metadata": {},
          "execution_count": 4
        }
      ],
      "source": [
        "true_df = pd.read_csv('/content/drive/MyDrive/Colab Notebooks/pythonProject/itog/true_all.csv')\n",
        "false_df = pd.read_csv('/content/drive/MyDrive/Colab Notebooks/pythonProject/itog/fake_all.csv')\n",
        "df = pd.concat([true_df, false_df], ignore_index=True)\n",
        "\n",
        "df.head()\n",
        "\n",
        "df.sample(n=5)"
      ]
    },
    {
      "cell_type": "markdown",
      "id": "173b723e14a7ca80",
      "metadata": {
        "id": "173b723e14a7ca80"
      },
      "source": [
        "## Предобработка данных\n"
      ]
    },
    {
      "cell_type": "markdown",
      "id": "e222077f04a71474",
      "metadata": {
        "id": "e222077f04a71474"
      },
      "source": [
        "### 1) Приведение текстов к нижнему регистру"
      ]
    },
    {
      "cell_type": "code",
      "execution_count": null,
      "id": "931e4922df273619",
      "metadata": {
        "colab": {
          "base_uri": "https://localhost:8080/"
        },
        "id": "931e4922df273619",
        "outputId": "43e8201d-8a2b-454b-e2c9-107a555b2222"
      },
      "outputs": [
        {
          "output_type": "execute_result",
          "data": {
            "text/plain": [
              "(10200, 2)"
            ]
          },
          "metadata": {},
          "execution_count": 5
        }
      ],
      "source": [
        "df[\"text\"] = df[\"text\"].str.lower().str.strip().str.rstrip('.').str.replace('«', '\"').str.replace('»', '\"').str.rstrip(',')\n",
        "df.shape"
      ]
    },
    {
      "cell_type": "markdown",
      "id": "fd429e0469708e51",
      "metadata": {
        "id": "fd429e0469708e51"
      },
      "source": [
        "### 2) Удаление дубликов"
      ]
    },
    {
      "cell_type": "code",
      "execution_count": null,
      "id": "27018c50881bd5e6",
      "metadata": {
        "colab": {
          "base_uri": "https://localhost:8080/",
          "height": 204
        },
        "id": "27018c50881bd5e6",
        "outputId": "3857a23a-8257-4c58-973c-d234362a9f57"
      },
      "outputs": [
        {
          "output_type": "execute_result",
          "data": {
            "text/plain": [
              "                                                text   label\n",
              "0  ученые университета тафтса и гарвардского унив...  Правда\n",
              "1  олимпийского чемпиона по фигурному катанию дми...  Правда\n",
              "2  главной ошибкой при лечении коронавируса являе...  Правда\n",
              "3  российская туристка отдохнула в шарм-эш-шейхе ...  Правда\n",
              "4  президент владимир путин назвал причину, по ко...  Правда"
            ],
            "text/html": [
              "\n",
              "  <div id=\"df-7391af8f-cd75-426f-b464-ff98a3ad2f10\" class=\"colab-df-container\">\n",
              "    <div>\n",
              "<style scoped>\n",
              "    .dataframe tbody tr th:only-of-type {\n",
              "        vertical-align: middle;\n",
              "    }\n",
              "\n",
              "    .dataframe tbody tr th {\n",
              "        vertical-align: top;\n",
              "    }\n",
              "\n",
              "    .dataframe thead th {\n",
              "        text-align: right;\n",
              "    }\n",
              "</style>\n",
              "<table border=\"1\" class=\"dataframe\">\n",
              "  <thead>\n",
              "    <tr style=\"text-align: right;\">\n",
              "      <th></th>\n",
              "      <th>text</th>\n",
              "      <th>label</th>\n",
              "    </tr>\n",
              "  </thead>\n",
              "  <tbody>\n",
              "    <tr>\n",
              "      <th>0</th>\n",
              "      <td>ученые университета тафтса и гарвардского унив...</td>\n",
              "      <td>Правда</td>\n",
              "    </tr>\n",
              "    <tr>\n",
              "      <th>1</th>\n",
              "      <td>олимпийского чемпиона по фигурному катанию дми...</td>\n",
              "      <td>Правда</td>\n",
              "    </tr>\n",
              "    <tr>\n",
              "      <th>2</th>\n",
              "      <td>главной ошибкой при лечении коронавируса являе...</td>\n",
              "      <td>Правда</td>\n",
              "    </tr>\n",
              "    <tr>\n",
              "      <th>3</th>\n",
              "      <td>российская туристка отдохнула в шарм-эш-шейхе ...</td>\n",
              "      <td>Правда</td>\n",
              "    </tr>\n",
              "    <tr>\n",
              "      <th>4</th>\n",
              "      <td>президент владимир путин назвал причину, по ко...</td>\n",
              "      <td>Правда</td>\n",
              "    </tr>\n",
              "  </tbody>\n",
              "</table>\n",
              "</div>\n",
              "    <div class=\"colab-df-buttons\">\n",
              "\n",
              "  <div class=\"colab-df-container\">\n",
              "    <button class=\"colab-df-convert\" onclick=\"convertToInteractive('df-7391af8f-cd75-426f-b464-ff98a3ad2f10')\"\n",
              "            title=\"Convert this dataframe to an interactive table.\"\n",
              "            style=\"display:none;\">\n",
              "\n",
              "  <svg xmlns=\"http://www.w3.org/2000/svg\" height=\"24px\" viewBox=\"0 -960 960 960\">\n",
              "    <path d=\"M120-120v-720h720v720H120Zm60-500h600v-160H180v160Zm220 220h160v-160H400v160Zm0 220h160v-160H400v160ZM180-400h160v-160H180v160Zm440 0h160v-160H620v160ZM180-180h160v-160H180v160Zm440 0h160v-160H620v160Z\"/>\n",
              "  </svg>\n",
              "    </button>\n",
              "\n",
              "  <style>\n",
              "    .colab-df-container {\n",
              "      display:flex;\n",
              "      gap: 12px;\n",
              "    }\n",
              "\n",
              "    .colab-df-convert {\n",
              "      background-color: #E8F0FE;\n",
              "      border: none;\n",
              "      border-radius: 50%;\n",
              "      cursor: pointer;\n",
              "      display: none;\n",
              "      fill: #1967D2;\n",
              "      height: 32px;\n",
              "      padding: 0 0 0 0;\n",
              "      width: 32px;\n",
              "    }\n",
              "\n",
              "    .colab-df-convert:hover {\n",
              "      background-color: #E2EBFA;\n",
              "      box-shadow: 0px 1px 2px rgba(60, 64, 67, 0.3), 0px 1px 3px 1px rgba(60, 64, 67, 0.15);\n",
              "      fill: #174EA6;\n",
              "    }\n",
              "\n",
              "    .colab-df-buttons div {\n",
              "      margin-bottom: 4px;\n",
              "    }\n",
              "\n",
              "    [theme=dark] .colab-df-convert {\n",
              "      background-color: #3B4455;\n",
              "      fill: #D2E3FC;\n",
              "    }\n",
              "\n",
              "    [theme=dark] .colab-df-convert:hover {\n",
              "      background-color: #434B5C;\n",
              "      box-shadow: 0px 1px 3px 1px rgba(0, 0, 0, 0.15);\n",
              "      filter: drop-shadow(0px 1px 2px rgba(0, 0, 0, 0.3));\n",
              "      fill: #FFFFFF;\n",
              "    }\n",
              "  </style>\n",
              "\n",
              "    <script>\n",
              "      const buttonEl =\n",
              "        document.querySelector('#df-7391af8f-cd75-426f-b464-ff98a3ad2f10 button.colab-df-convert');\n",
              "      buttonEl.style.display =\n",
              "        google.colab.kernel.accessAllowed ? 'block' : 'none';\n",
              "\n",
              "      async function convertToInteractive(key) {\n",
              "        const element = document.querySelector('#df-7391af8f-cd75-426f-b464-ff98a3ad2f10');\n",
              "        const dataTable =\n",
              "          await google.colab.kernel.invokeFunction('convertToInteractive',\n",
              "                                                    [key], {});\n",
              "        if (!dataTable) return;\n",
              "\n",
              "        const docLinkHtml = 'Like what you see? Visit the ' +\n",
              "          '<a target=\"_blank\" href=https://colab.research.google.com/notebooks/data_table.ipynb>data table notebook</a>'\n",
              "          + ' to learn more about interactive tables.';\n",
              "        element.innerHTML = '';\n",
              "        dataTable['output_type'] = 'display_data';\n",
              "        await google.colab.output.renderOutput(dataTable, element);\n",
              "        const docLink = document.createElement('div');\n",
              "        docLink.innerHTML = docLinkHtml;\n",
              "        element.appendChild(docLink);\n",
              "      }\n",
              "    </script>\n",
              "  </div>\n",
              "\n",
              "\n",
              "    <div id=\"df-c4177cc0-5e16-4b75-b95e-2a00cb883461\">\n",
              "      <button class=\"colab-df-quickchart\" onclick=\"quickchart('df-c4177cc0-5e16-4b75-b95e-2a00cb883461')\"\n",
              "                title=\"Suggest charts\"\n",
              "                style=\"display:none;\">\n",
              "\n",
              "<svg xmlns=\"http://www.w3.org/2000/svg\" height=\"24px\"viewBox=\"0 0 24 24\"\n",
              "     width=\"24px\">\n",
              "    <g>\n",
              "        <path d=\"M19 3H5c-1.1 0-2 .9-2 2v14c0 1.1.9 2 2 2h14c1.1 0 2-.9 2-2V5c0-1.1-.9-2-2-2zM9 17H7v-7h2v7zm4 0h-2V7h2v10zm4 0h-2v-4h2v4z\"/>\n",
              "    </g>\n",
              "</svg>\n",
              "      </button>\n",
              "\n",
              "<style>\n",
              "  .colab-df-quickchart {\n",
              "      --bg-color: #E8F0FE;\n",
              "      --fill-color: #1967D2;\n",
              "      --hover-bg-color: #E2EBFA;\n",
              "      --hover-fill-color: #174EA6;\n",
              "      --disabled-fill-color: #AAA;\n",
              "      --disabled-bg-color: #DDD;\n",
              "  }\n",
              "\n",
              "  [theme=dark] .colab-df-quickchart {\n",
              "      --bg-color: #3B4455;\n",
              "      --fill-color: #D2E3FC;\n",
              "      --hover-bg-color: #434B5C;\n",
              "      --hover-fill-color: #FFFFFF;\n",
              "      --disabled-bg-color: #3B4455;\n",
              "      --disabled-fill-color: #666;\n",
              "  }\n",
              "\n",
              "  .colab-df-quickchart {\n",
              "    background-color: var(--bg-color);\n",
              "    border: none;\n",
              "    border-radius: 50%;\n",
              "    cursor: pointer;\n",
              "    display: none;\n",
              "    fill: var(--fill-color);\n",
              "    height: 32px;\n",
              "    padding: 0;\n",
              "    width: 32px;\n",
              "  }\n",
              "\n",
              "  .colab-df-quickchart:hover {\n",
              "    background-color: var(--hover-bg-color);\n",
              "    box-shadow: 0 1px 2px rgba(60, 64, 67, 0.3), 0 1px 3px 1px rgba(60, 64, 67, 0.15);\n",
              "    fill: var(--button-hover-fill-color);\n",
              "  }\n",
              "\n",
              "  .colab-df-quickchart-complete:disabled,\n",
              "  .colab-df-quickchart-complete:disabled:hover {\n",
              "    background-color: var(--disabled-bg-color);\n",
              "    fill: var(--disabled-fill-color);\n",
              "    box-shadow: none;\n",
              "  }\n",
              "\n",
              "  .colab-df-spinner {\n",
              "    border: 2px solid var(--fill-color);\n",
              "    border-color: transparent;\n",
              "    border-bottom-color: var(--fill-color);\n",
              "    animation:\n",
              "      spin 1s steps(1) infinite;\n",
              "  }\n",
              "\n",
              "  @keyframes spin {\n",
              "    0% {\n",
              "      border-color: transparent;\n",
              "      border-bottom-color: var(--fill-color);\n",
              "      border-left-color: var(--fill-color);\n",
              "    }\n",
              "    20% {\n",
              "      border-color: transparent;\n",
              "      border-left-color: var(--fill-color);\n",
              "      border-top-color: var(--fill-color);\n",
              "    }\n",
              "    30% {\n",
              "      border-color: transparent;\n",
              "      border-left-color: var(--fill-color);\n",
              "      border-top-color: var(--fill-color);\n",
              "      border-right-color: var(--fill-color);\n",
              "    }\n",
              "    40% {\n",
              "      border-color: transparent;\n",
              "      border-right-color: var(--fill-color);\n",
              "      border-top-color: var(--fill-color);\n",
              "    }\n",
              "    60% {\n",
              "      border-color: transparent;\n",
              "      border-right-color: var(--fill-color);\n",
              "    }\n",
              "    80% {\n",
              "      border-color: transparent;\n",
              "      border-right-color: var(--fill-color);\n",
              "      border-bottom-color: var(--fill-color);\n",
              "    }\n",
              "    90% {\n",
              "      border-color: transparent;\n",
              "      border-bottom-color: var(--fill-color);\n",
              "    }\n",
              "  }\n",
              "</style>\n",
              "\n",
              "      <script>\n",
              "        async function quickchart(key) {\n",
              "          const quickchartButtonEl =\n",
              "            document.querySelector('#' + key + ' button');\n",
              "          quickchartButtonEl.disabled = true;  // To prevent multiple clicks.\n",
              "          quickchartButtonEl.classList.add('colab-df-spinner');\n",
              "          try {\n",
              "            const charts = await google.colab.kernel.invokeFunction(\n",
              "                'suggestCharts', [key], {});\n",
              "          } catch (error) {\n",
              "            console.error('Error during call to suggestCharts:', error);\n",
              "          }\n",
              "          quickchartButtonEl.classList.remove('colab-df-spinner');\n",
              "          quickchartButtonEl.classList.add('colab-df-quickchart-complete');\n",
              "        }\n",
              "        (() => {\n",
              "          let quickchartButtonEl =\n",
              "            document.querySelector('#df-c4177cc0-5e16-4b75-b95e-2a00cb883461 button');\n",
              "          quickchartButtonEl.style.display =\n",
              "            google.colab.kernel.accessAllowed ? 'block' : 'none';\n",
              "        })();\n",
              "      </script>\n",
              "    </div>\n",
              "    </div>\n",
              "  </div>\n"
            ],
            "application/vnd.google.colaboratory.intrinsic+json": {
              "type": "dataframe",
              "variable_name": "df",
              "summary": "{\n  \"name\": \"df\",\n  \"rows\": 10200,\n  \"fields\": [\n    {\n      \"column\": \"text\",\n      \"properties\": {\n        \"dtype\": \"string\",\n        \"num_unique_values\": 10200,\n        \"samples\": [\n          \"\\u0441 2022 \\u0433\\u043e\\u0434\\u0430 \\u0432\\u044b\\u0434\\u0430\\u0447\\u0430 \\u0437\\u0430\\u0433\\u0440\\u0430\\u043d\\u043f\\u0430\\u0441\\u043f\\u043e\\u0440\\u0442\\u043e\\u0432 \\u0431\\u0443\\u0434\\u0435\\u0442 \\u043f\\u0440\\u043e\\u0438\\u0437\\u0432\\u043e\\u0434\\u0438\\u0442\\u044c\\u0441\\u044f \\u0442\\u043e\\u043b\\u044c\\u043a\\u043e \\u043f\\u0440\\u0438 \\u043e\\u0434\\u043e\\u0431\\u0440\\u0435\\u043d\\u0438\\u0438 \\u0440\\u0435\\u0433\\u0438\\u043e\\u043d\\u0430\\u043b\\u044c\\u043d\\u043e\\u0433\\u043e \\u043e\\u0442\\u0434\\u0435\\u043b\\u0435\\u043d\\u0438\\u044f \\u0435\\u0434\\u0438\\u043d\\u043e\\u0439 \\u0440\\u043e\\u0441\\u0441\\u0438\\u0438\",\n          \"\\u0434\\u0432\\u043e\\u0435 \\u043c\\u0443\\u0436\\u0447\\u0438\\u043d \\u0438\\u0437\\u0431\\u0438\\u043b\\u0438 \\u043f\\u0430\\u043b\\u043a\\u0430\\u043c\\u0438 \\u043a\\u043e\\u043c\\u043f\\u0430\\u043d\\u0438\\u044e \\u043f\\u043e\\u0434\\u0440\\u043e\\u0441\\u0442\\u043a\\u043e\\u0432 \\u0432\\u043e \\u0434\\u0432\\u043e\\u0440\\u0435 \\u0436\\u0438\\u043b\\u043e\\u0433\\u043e \\u0434\\u043e\\u043c\\u0430 \\u043d\\u0430 \\u0441\\u0435\\u0432\\u0435\\u0440\\u0435 \\u043c\\u043e\\u0441\\u043a\\u0432\\u044b, \\u043f\\u043e \\u0434\\u0430\\u043d\\u043d\\u043e\\u043c\\u0443 \\u0444\\u0430\\u043a\\u0442\\u0443 \\u043d\\u0430\\u0447\\u0430\\u0442\\u0430 \\u043f\\u0440\\u043e\\u0432\\u0435\\u0440\\u043a\\u0430. \\u043e\\u0431 \\u044d\\u0442\\u043e\\u043c \\u0442\\u0430\\u0441\\u0441 \\u0441\\u043e\\u043e\\u0431\\u0449\\u0438\\u043b\\u0438 \\u0432 \\u043f\\u0440\\u0435\\u0441\\u0441-\\u0441\\u043b\\u0443\\u0436\\u0431\\u0435 \\u0441\\u0442\\u043e\\u043b\\u0438\\u0447\\u043d\\u043e\\u0439 \\u043f\\u0440\\u043e\\u043a\\u0443\\u0440\\u0430\\u0442\\u0443\\u0440\\u044b.\\\"\\u0432\\u0435\\u0447\\u0435\\u0440\\u043e\\u043c 19 \\u043d\\u043e\\u044f\\u0431\\u0440\\u044f \\u0434\\u0432\\u043e\\u0435 \\u043c\\u0443\\u0436\\u0447\\u0438\\u043d, \\u043d\\u0430\\u0445\\u043e\\u0434\\u044f\\u0441\\u044c \\u0432\\u043e \\u0434\\u0432\\u043e\\u0440\\u0435 \\u0436\\u0438\\u043b\\u043e\\u0433\\u043e \\u0434\\u043e\\u043c\\u0430 \\u043d\\u0430 \\u0443\\u043b\\u0438\\u0446\\u0435 \\u0431\\u0430\\u0437\\u043e\\u0432\\u0441\\u043a\\u043e\\u0439, \\u043f\\u043e\\u0434\\u043e\\u0448\\u043b\\u0438 \\u043a \\u0433\\u0440\\u0443\\u043f\\u043f\\u0435 \\u043d\\u0435\\u0441\\u043e\\u0432\\u0435\\u0440\\u0448\\u0435\\u043d\\u043d\\u043e\\u043b\\u0435\\u0442\\u043d\\u0438\\u0445 \\u0438 \\u043f\\u0440\\u0438\\u043c\\u0435\\u043d\\u0438\\u043b\\u0438 \\u043a \\u043d\\u0438\\u043c \\u0444\\u0438\\u0437\\u0438\\u0447\\u0435\\u0441\\u043a\\u0443\\u044e \\u0441\\u0438\\u043b\\u0443, \\u0437\\u0430\\u0441\\u0442\\u0430\\u0432\\u0438\\u043b\\u0438 \\u0432\\u0441\\u0442\\u0430\\u0442\\u044c \\u043d\\u0430 \\u043a\\u043e\\u043b\\u0435\\u043d\\u0438, \\u043d\\u0430\\u043d\\u043e\\u0441\\u0438\\u043b\\u0438 \\u0443\\u0434\\u0430\\u0440\\u044b \\u043f\\u0430\\u043b\\u043a\\u043e\\u0439\\\", - \\u0441\\u043a\\u0430\\u0437\\u0430\\u043b\\u0438 \\u0432 \\u043f\\u0440\\u0435\\u0441\\u0441-\\u0441\\u043b\\u0443\\u0436\\u0431\\u0435 \\u0438 \\u0434\\u043e\\u0431\\u0430\\u0432\\u0438\\u043b\\u0438, \\u0447\\u0442\\u043e \\u043e\\u0434\\u043d\\u043e\\u043c\\u0443 \\u0438\\u0437 \\u043f\\u043e\\u0441\\u0442\\u0440\\u0430\\u0434\\u0430\\u0432\\u0448\\u0438\\u0445 \\u043c\\u0443\\u0436\\u0447\\u0438\\u043d\\u044b \\u0443\\u0433\\u0440\\u043e\\u0436\\u0430\\u043b\\u0438 \\u043d\\u043e\\u0436\\u043e\\u043c. \\u043f\\u0440\\u043e\\u0432\\u043e\\u0434\\u0438\\u0442\\u0441\\u044f \\u043f\\u0440\\u043e\\u0432\\u0435\\u0440\\u043a\\u0430, \\u0445\\u043e\\u0434 \\u0438 \\u0440\\u0435\\u0437\\u0443\\u043b\\u044c\\u0442\\u0430\\u0442\\u044b \\u043a\\u043e\\u0442\\u043e\\u0440\\u043e\\u0439 \\u043d\\u0430\\u0445\\u043e\\u0434\\u044f\\u0442\\u0441\\u044f \\u043d\\u0430 \\u043a\\u043e\\u043d\\u0442\\u0440\\u043e\\u043b\\u0435 \\u043f\\u0440\\u043e\\u043a\\u0443\\u0440\\u0430\\u0442\\u0443\\u0440\\u044b. \\u0443\\u0441\\u0442\\u0430\\u043d\\u0430\\u0432\\u043b\\u0438\\u0432\\u0430\\u044e\\u0442\\u0441\\u044f \\u0432\\u0441\\u0435 \\u043e\\u0431\\u0441\\u0442\\u043e\\u044f\\u0442\\u0435\\u043b\\u044c\\u0441\\u0442\\u0432\\u0430 \\u0441\\u043b\\u0443\\u0447\\u0438\\u0432\\u0448\\u0435\\u0433\\u043e\\u0441\\u044f. \\u0432 \\u043f\\u0440\\u0435\\u0441\\u0441-\\u0441\\u043b\\u0443\\u0436\\u0431\\u0435 \\u0433\\u0441\\u0443 \\u0441\\u043a \\u0440\\u043e\\u0441\\u0441\\u0438\\u0438 \\u043f\\u043e \\u043c\\u043e\\u0441\\u043a\\u0432\\u0435 \\u0442\\u0430\\u0441\\u0441 \\u0441\\u043e\\u043e\\u0431\\u0449\\u0438\\u043b\\u0438,\\u0447\\u0442\\u043e\\u0432\\u043e\\u0437\\u0431\\u0443\\u0436\\u0434\\u0435\\u043d\\u043e \\u0443\\u0433\\u043e\\u043b\\u043e\\u0432\\u043d\\u043e\\u0435 \\u0434\\u0435\\u043b\\u043e \\u043e \\u0445\\u0443\\u043b\\u0438\\u0433\\u0430\\u043d\\u0441\\u0442\\u0432\\u0435. \\u043b\\u0438\\u0447\\u043d\\u043e\\u0441\\u0442\\u0438 \\u043f\\u043e\\u0434\\u043e\\u0437\\u0440\\u0435\\u0432\\u0430\\u0435\\u043c\\u044b\\u0445 \\u0443\\u0441\\u0442\\u0430\\u043d\\u043e\\u0432\\u043b\\u0435\\u043d\\u044b, \\u0432 \\u0431\\u043b\\u0438\\u0436\\u0430\\u0439\\u0448\\u0435\\u0435 \\u0432\\u0440\\u0435\\u043c\\u044f \\u043e\\u043d\\u0438 \\u0431\\u0443\\u0434\\u0443\\u0442 \\u0434\\u043e\\u0441\\u0442\\u0430\\u0432\\u043b\\u0435\\u043d\\u044b \\u0432 \\u043f\\u043e\\u0434\\u0440\\u0430\\u0437\\u0434\\u0435\\u043b\\u0435\\u043d\\u0438\\u0435 \\u043a \\u0441\\u043b\\u0435\\u0434\\u043e\\u0432\\u0430\\u0442\\u0435\\u043b\\u044e \\u0434\\u043b\\u044f \\u043f\\u0440\\u043e\\u0432\\u0435\\u0434\\u0435\\u043d\\u0438\\u044f \\u0441\\u043b\\u0435\\u0434\\u0441\\u0442\\u0432\\u0435\\u043d\\u043d\\u044b\\u0445 \\u0434\\u0435\\u0439\\u0441\\u0442\\u0432\\u0438\\u0439\",\n          \"\\u0434\\u043e\\u043a\\u0442\\u043e\\u0440 \\u0440\\u043e\\u0448\\u0430\\u043b\\u044c \\u043f\\u043e\\u0445\\u0432\\u0430\\u043b\\u0438\\u043b \\u043d\\u0430\\u0432\\u0430\\u043b\\u044c\\u043d\\u043e\\u0433\\u043e \\u0437\\u0430 \\u043d\\u0430\\u0447\\u0430\\u043b\\u043e \\u043b\\u0435\\u0447\\u0435\\u0431\\u043d\\u043e\\u0433\\u043e \\u0433\\u043e\\u043b\\u043e\\u0434\\u0430\\u043d\\u0438\\u044f\"\n        ],\n        \"semantic_type\": \"\",\n        \"description\": \"\"\n      }\n    },\n    {\n      \"column\": \"label\",\n      \"properties\": {\n        \"dtype\": \"category\",\n        \"num_unique_values\": 2,\n        \"samples\": [\n          \"\\u041b\\u043e\\u0436\\u044c\",\n          \"\\u041f\\u0440\\u0430\\u0432\\u0434\\u0430\"\n        ],\n        \"semantic_type\": \"\",\n        \"description\": \"\"\n      }\n    }\n  ]\n}"
            }
          },
          "metadata": {},
          "execution_count": 6
        }
      ],
      "source": [
        "df = df.drop_duplicates(subset=['text'])\n",
        "df.head()"
      ]
    },
    {
      "cell_type": "code",
      "execution_count": null,
      "id": "Nbp5PT1_BLDT",
      "metadata": {
        "colab": {
          "base_uri": "https://localhost:8080/",
          "height": 407
        },
        "id": "Nbp5PT1_BLDT",
        "outputId": "6231569a-219a-4dda-b6d8-084680f052c6"
      },
      "outputs": [
        {
          "output_type": "display_data",
          "data": {
            "text/plain": [
              "<Figure size 500x400 with 1 Axes>"
            ],
            "image/png": "[encoded data removed]"
          },
          "metadata": {}
        }
      ],
      "source": [
        "values = df[\"label\"].value_counts()\n",
        "values_df = values.reset_index()\n",
        "values_df.columns = ['Метки', 'Количество']\n",
        "\n",
        "\n",
        "plt.figure(figsize=(5, 4))\n",
        "\n",
        "palette = sns.color_palette(n_colors=len(values_df))\n",
        "\n",
        "ax = sns.barplot(\n",
        "    x='Метки',\n",
        "    y='Количество',\n",
        "    data=values_df,\n",
        "    palette=palette,\n",
        "    hue='Метки',\n",
        "    legend=False,\n",
        "    width=0.5\n",
        ")\n",
        "\n",
        "ax.yaxis.grid(True, linestyle='--', linewidth=2)\n",
        "\n",
        "max_count = values_df['Количество'].max()\n",
        "num_ticks = 6\n",
        "tick_step = max(1, int(np.ceil(max_count / (num_ticks - 1))))\n",
        "y_ticks = np.arange(0, max_count + tick_step, tick_step)\n",
        "ax.set_yticks(y_ticks)\n",
        "\n",
        "ax.set_title('Соотношение классов новостей ', fontsize=14)\n",
        "ax.set_xlabel('Классы', fontsize=14)\n",
        "ax.set_ylabel('Количество новостей', fontsize=14)\n",
        "ax.tick_params(axis='both', labelsize=14)\n",
        "\n",
        "plt.tight_layout()\n",
        "plt.show()"
      ]
    },
    {
      "cell_type": "markdown",
      "id": "a9ad2efcb49b9e65",
      "metadata": {
        "id": "a9ad2efcb49b9e65"
      },
      "source": [
        "### 3) Удаление стоп-слов"
      ]
    },
    {
      "cell_type": "code",
      "execution_count": null,
      "id": "353aad0483204cdf",
      "metadata": {
        "colab": {
          "base_uri": "https://localhost:8080/"
        },
        "id": "353aad0483204cdf",
        "outputId": "57a50b92-2465-4800-dab3-6013a931aa4f"
      },
      "outputs": [
        {
          "output_type": "stream",
          "name": "stderr",
          "text": [
            "[nltk_data] Downloading package stopwords to /root/nltk_data...\n",
            "[nltk_data]   Unzipping corpora/stopwords.zip.\n"
          ]
        }
      ],
      "source": [
        "# Удаление стоп слов\n",
        "nltk.download('stopwords')\n",
        "stop_words = set(stopwords.words('russian'))\n",
        "\n",
        "def preprocess(text):\n",
        "    text = re.sub(r'<.*?>', '', text)\n",
        "    text = text.lower()\n",
        "    tokens = [w for w in text.split() if w not in stop_words]\n",
        "    return ' '.join(tokens)\n",
        "\n",
        "df['clean_text'] = df['text'].astype(str).apply(preprocess)\n",
        "\n",
        "\n",
        "\n",
        "df[\"label\"] = df[\"label\"].apply(lambda x: 0 if x == \"Ложь\" else 1)\n",
        "\n",
        "\n"
      ]
    },
    {
      "cell_type": "markdown",
      "id": "29ef600444b14484",
      "metadata": {
        "id": "29ef600444b14484"
      },
      "source": [
        "### Разделение выборки на обучающую и тестовую"
      ]
    },
    {
      "cell_type": "code",
      "execution_count": null,
      "id": "c68f542add91f397",
      "metadata": {
        "id": "c68f542add91f397"
      },
      "outputs": [],
      "source": [
        "train_df, eval_df = train_test_split(df, test_size=0.2, random_state=42)"
      ]
    },
    {
      "cell_type": "code",
      "execution_count": null,
      "id": "77108a4a6ec7f9fd",
      "metadata": {
        "colab": {
          "base_uri": "https://localhost:8080/",
          "height": 696
        },
        "id": "77108a4a6ec7f9fd",
        "outputId": "651088f7-0e8d-4488-874e-2a22c0e98b8e"
      },
      "outputs": [
        {
          "metadata": {
            "tags": null
          },
          "name": "stderr",
          "output_type": "stream",
          "text": [
            "Some weights of BertForSequenceClassification were not initialized from the model checkpoint at DeepPavlov/rubert-base-cased and are newly initialized: ['classifier.bias', 'classifier.weight']\n",
            "You should probably TRAIN this model on a down-stream task to be able to use it for predictions and inference.\n",
            "\u001b[34m\u001b[1mwandb\u001b[0m: \u001b[33mWARNING\u001b[0m The `run_name` is currently set to the same value as `TrainingArguments.output_dir`. If this was not intended, please specify a different run name by setting the `TrainingArguments.run_name` parameter.\n"
          ]
        },
        {
          "data": {
            "application/javascript": [
              "\n",
              "        window._wandbApiKey = new Promise((resolve, reject) => {\n",
              "            function loadScript(url) {\n",
              "            return new Promise(function(resolve, reject) {\n",
              "                let newScript = document.createElement(\"script\");\n",
              "                newScript.onerror = reject;\n",
              "                newScript.onload = resolve;\n",
              "                document.body.appendChild(newScript);\n",
              "                newScript.src = url;\n",
              "            });\n",
              "            }\n",
              "            loadScript(\"https://cdn.jsdelivr.net/npm/postmate/build/postmate.min.js\").then(() => {\n",
              "            const iframe = document.createElement('iframe')\n",
              "            iframe.style.cssText = \"width:0;height:0;border:none\"\n",
              "            document.body.appendChild(iframe)\n",
              "            const handshake = new Postmate({\n",
              "                container: iframe,\n",
              "                url: 'https://wandb.ai/authorize'\n",
              "            });\n",
              "            const timeout = setTimeout(() => reject(\"Couldn't auto authenticate\"), 5000)\n",
              "            handshake.then(function(child) {\n",
              "                child.on('authorize', data => {\n",
              "                    clearTimeout(timeout)\n",
              "                    resolve(data)\n",
              "                });\n",
              "            });\n",
              "            })\n",
              "        });\n",
              "    "
            ],
            "text/plain": [
              "<IPython.core.display.Javascript object>"
            ]
          },
          "metadata": {},
          "output_type": "display_data"
        },
        {
          "metadata": {
            "tags": null
          },
          "name": "stderr",
          "output_type": "stream",
          "text": [
            "\u001b[34m\u001b[1mwandb\u001b[0m: Logging into wandb.ai. (Learn how to deploy a W&B server locally: https://wandb.me/wandb-server)\n",
            "\u001b[34m\u001b[1mwandb\u001b[0m: You can find your API key in your browser here: https://wandb.ai/authorize?ref=models\n",
            "wandb: Paste an API key from your profile and hit enter:\u001b[34m\u001b[1mwandb\u001b[0m: \u001b[33mWARNING\u001b[0m If you're specifying your api key in code, ensure this code is not shared publicly.\n",
            "\u001b[34m\u001b[1mwandb\u001b[0m: \u001b[33mWARNING\u001b[0m Consider setting the WANDB_API_KEY environment variable, or running `wandb login` from the command line.\n",
            "\u001b[34m\u001b[1mwandb\u001b[0m: No netrc file found, creating one.\n",
            "\u001b[34m\u001b[1mwandb\u001b[0m: Appending key for api.wandb.ai to your netrc file: /root/.netrc\n",
            "\u001b[34m\u001b[1mwandb\u001b[0m: Currently logged in as: \u001b[33mturilkin-valera\u001b[0m (\u001b[33mturilkin-valera-bmstu\u001b[0m) to \u001b[32mhttps://api.wandb.ai\u001b[0m. Use \u001b[1m`wandb login --relogin`\u001b[0m to force relogin\n"
          ]
        },
        {
          "data": {
            "text/html": [
              "Tracking run with wandb version 0.19.11"
            ],
            "text/plain": [
              "<IPython.core.display.HTML object>"
            ]
          },
          "metadata": {},
          "output_type": "display_data"
        },
        {
          "data": {
            "text/html": [
              "Run data is saved locally in <code>/content/wandb/run-20250529_132319-o3q4ye4m</code>"
            ],
            "text/plain": [
              "<IPython.core.display.HTML object>"
            ]
          },
          "metadata": {},
          "output_type": "display_data"
        },
        {
          "data": {
            "text/html": [
              "Syncing run <strong><a href='https://wandb.ai/turilkin-valera-bmstu/huggingface/runs/o3q4ye4m' target=\"_blank\">./results</a></strong> to <a href='https://wandb.ai/turilkin-valera-bmstu/huggingface' target=\"_blank\">Weights & Biases</a> (<a href='https://wandb.me/developer-guide' target=\"_blank\">docs</a>)<br>"
            ],
            "text/plain": [
              "<IPython.core.display.HTML object>"
            ]
          },
          "metadata": {},
          "output_type": "display_data"
        },
        {
          "data": {
            "text/html": [
              " View project at <a href='https://wandb.ai/turilkin-valera-bmstu/huggingface' target=\"_blank\">https://wandb.ai/turilkin-valera-bmstu/huggingface</a>"
            ],
            "text/plain": [
              "<IPython.core.display.HTML object>"
            ]
          },
          "metadata": {},
          "output_type": "display_data"
        },
        {
          "data": {
            "text/html": [
              " View run at <a href='https://wandb.ai/turilkin-valera-bmstu/huggingface/runs/o3q4ye4m' target=\"_blank\">https://wandb.ai/turilkin-valera-bmstu/huggingface/runs/o3q4ye4m</a>"
            ],
            "text/plain": [
              "<IPython.core.display.HTML object>"
            ]
          },
          "metadata": {},
          "output_type": "display_data"
        },
        {
          "data": {
            "text/html": [
              "\n",
              "    <div>\n",
              "      \n",
              "      <progress value='1531' max='1530' style='width:300px; height:20px; vertical-align: middle;'></progress>\n",
              "      [1530/1530 11:13, Epoch 3/3]\n",
              "    </div>\n",
              "    <table border=\"1\" class=\"dataframe\">\n",
              "  <thead>\n",
              " <tr style=\"text-align: left;\">\n",
              "      <th>Epoch</th>\n",
              "      <th>Training Loss</th>\n",
              "      <th>Validation Loss</th>\n",
              "      <th>Accuracy</th>\n",
              "      <th>Precision</th>\n",
              "      <th>Recall</th>\n",
              "      <th>F1</th>\n",
              "    </tr>\n",
              "  </thead>\n",
              "  <tbody>\n",
              "    <tr>\n",
              "      <td>1</td>\n",
              "      <td>0.132800</td>\n",
              "      <td>0.044194</td>\n",
              "      <td>0.989706</td>\n",
              "      <td>0.991296</td>\n",
              "      <td>0.988428</td>\n",
              "      <td>0.989860</td>\n",
              "    </tr>\n",
              "    <tr>\n",
              "      <td>2</td>\n",
              "      <td>0.021600</td>\n",
              "      <td>0.089182</td>\n",
              "      <td>0.985784</td>\n",
              "      <td>0.973684</td>\n",
              "      <td>0.999036</td>\n",
              "      <td>0.986197</td>\n",
              "    </tr>\n",
              "    <tr>\n",
              "      <td>3</td>\n",
              "      <td>0.002000</td>\n",
              "      <td>0.052741</td>\n",
              "      <td>0.993137</td>\n",
              "      <td>0.994203</td>\n",
              "      <td>0.992285</td>\n",
              "      <td>0.993243</td>\n",
              "    </tr>\n",
              "  </tbody>\n",
              "</table><p>"
            ],
            "text/plain": [
              "<IPython.core.display.HTML object>"
            ]
          },
          "metadata": {},
          "output_type": "display_data"
        },
        {
          "output_type": "display_data",
          "data": {
            "text/plain": [
              "<IPython.core.display.HTML object>"
            ],
            "text/html": [
              "\n",
              "    <div>\n",
              "      \n",
              "      <progress value='1530' max='1530' style='width:300px; height:20px; vertical-align: middle;'></progress>\n",
              "      [1530/1530 11:52, Epoch 3/3]\n",
              "    </div>\n",
              "    <table border=\"1\" class=\"dataframe\">\n",
              "  <thead>\n",
              " <tr style=\"text-align: left;\">\n",
              "      <th>Epoch</th>\n",
              "      <th>Training Loss</th>\n",
              "      <th>Validation Loss</th>\n",
              "      <th>Accuracy</th>\n",
              "      <th>Precision</th>\n",
              "      <th>Recall</th>\n",
              "      <th>F1</th>\n",
              "    </tr>\n",
              "  </thead>\n",
              "  <tbody>\n",
              "    <tr>\n",
              "      <td>1</td>\n",
              "      <td>0.132800</td>\n",
              "      <td>0.044194</td>\n",
              "      <td>0.989706</td>\n",
              "      <td>0.991296</td>\n",
              "      <td>0.988428</td>\n",
              "      <td>0.989860</td>\n",
              "    </tr>\n",
              "    <tr>\n",
              "      <td>2</td>\n",
              "      <td>0.021600</td>\n",
              "      <td>0.089182</td>\n",
              "      <td>0.985784</td>\n",
              "      <td>0.973684</td>\n",
              "      <td>0.999036</td>\n",
              "      <td>0.986197</td>\n",
              "    </tr>\n",
              "    <tr>\n",
              "      <td>3</td>\n",
              "      <td>0.002000</td>\n",
              "      <td>0.052741</td>\n",
              "      <td>0.993137</td>\n",
              "      <td>0.994203</td>\n",
              "      <td>0.992285</td>\n",
              "      <td>0.993243</td>\n",
              "    </tr>\n",
              "  </tbody>\n",
              "</table><p>"
            ]
          },
          "metadata": {}
        },
        {
          "output_type": "execute_result",
          "data": {
            "text/plain": [
              "('./results/best_model/tokenizer_config.json',\n",
              " './results/best_model/special_tokens_map.json',\n",
              " './results/best_model/vocab.txt',\n",
              " './results/best_model/added_tokens.json',\n",
              " './results/best_model/tokenizer.json')"
            ]
          },
          "metadata": {},
          "execution_count": 11
        }
      ],
      "source": [
        "\n",
        "# 4. Токенизация и подготовка датасета\n",
        "tokenizer = BertTokenizerFast.from_pretrained('DeepPavlov/rubert-base-cased')\n",
        "MAX_LEN = 128\n",
        "\n",
        "class NewsDataset(torch.utils.data.Dataset):\n",
        "    def __init__(self, texts, labels, tokenizer, max_len):\n",
        "        self.texts = texts\n",
        "        self.labels = labels\n",
        "        self.tokenizer = tokenizer\n",
        "        self.max_len = max_len\n",
        "\n",
        "    def __len__(self):\n",
        "        return len(self.texts)\n",
        "\n",
        "    def __getitem__(self, idx):\n",
        "        text = self.texts[idx]\n",
        "        label = self.labels[idx]\n",
        "        encoding = self.tokenizer(\n",
        "            text,\n",
        "            padding='max_length',\n",
        "            truncation=True,\n",
        "            max_length=self.max_len,\n",
        "            return_tensors='pt'\n",
        "        )\n",
        "        return {\n",
        "            'input_ids': encoding['input_ids'].squeeze(),\n",
        "            'attention_mask': encoding['attention_mask'].squeeze(),\n",
        "            'labels': torch.tensor(label, dtype=torch.long)\n",
        "        }\n",
        "\n",
        "train_dataset = NewsDataset(\n",
        "    train_df['clean_text'].tolist(),\n",
        "    train_df['label'].tolist(),\n",
        "    tokenizer,\n",
        "    MAX_LEN\n",
        ")\n",
        "eval_dataset = NewsDataset(\n",
        "    eval_df['clean_text'].tolist(),\n",
        "    eval_df['label'].tolist(),\n",
        "    tokenizer,\n",
        "    MAX_LEN\n",
        ")\n",
        "\n",
        "# 5. Загрузка модели и настройка обучения\n",
        "model = BertForSequenceClassification.from_pretrained(\n",
        "    'DeepPavlov/rubert-base-cased',\n",
        "    num_labels=2\n",
        ")\n",
        "\n",
        "# Настройка параметров обучения\n",
        "training_args = TrainingArguments(\n",
        "    output_dir='./results',\n",
        "    num_train_epochs=3,\n",
        "    per_device_train_batch_size=16,\n",
        "    per_device_eval_batch_size=32,\n",
        "    eval_strategy='epoch',\n",
        "    save_strategy='epoch',\n",
        "    logging_dir='./logs',\n",
        "    load_best_model_at_end=True,\n",
        "    metric_for_best_model='f1',\n",
        ")\n",
        "\n",
        "def compute_metrics(pred):\n",
        "    labels = pred.label_ids\n",
        "    preds = np.argmax(pred.predictions, axis=1)\n",
        "    acc = accuracy_score(labels, preds)\n",
        "    prec, rec, f1, _ = precision_recall_fscore_support(\n",
        "        labels, preds, average='binary'\n",
        "    )\n",
        "    return {'accuracy': acc, 'precision': prec, 'recall': rec, 'f1': f1}\n",
        "\n",
        "# Инициализация обучающего класса модели\n",
        "trainer = Trainer(\n",
        "    model=model,\n",
        "    args=training_args,\n",
        "    train_dataset=train_dataset,\n",
        "    eval_dataset=eval_dataset,\n",
        "    tokenizer=tokenizer,\n",
        "    compute_metrics=compute_metrics\n",
        ")\n",
        "\n",
        "\n",
        "# 6. Обучение модели\n",
        "trainer.train()\n",
        "\n",
        "\n",
        "\n",
        "\n",
        "\n",
        "\n",
        "\n",
        "# 7. Сохранение лучшей модели\n",
        "best_model_path = os.path.join(training_args.output_dir, 'best_model')\n",
        "model.save_pretrained(best_model_path)\n",
        "tokenizer.save_pretrained(best_model_path)\n",
        "\n",
        "\n",
        "\n"
      ]
    },
    {
      "cell_type": "code",
      "source": [
        "log_history = trainer.state.log_history\n",
        "df_log = pd.DataFrame(log_history)\n",
        "\n",
        "plt.figure(figsize=(8, 5))\n",
        "plt.plot(df_log[df_log['loss'].notna()]['epoch'], df_log[df_log['loss'].notna()]['loss'], label='Ошибка при обучении')\n",
        "if 'eval_loss' in df_log.columns:\n",
        "    plt.plot(df_log[df_log['eval_loss'].notna()]['epoch'], df_log[df_log['eval_loss'].notna()]['eval_loss'], label='Ошибка при оценке')\n",
        "plt.xlabel('Число эпох', fontsize=14)\n",
        "plt.ylabel('Значение ошибки', fontsize=14)\n",
        "plt.title('График кривых обучения', fontsize=14)\n",
        "plt.xticks(np.arange(0, 11 ,1))\n",
        "plt.legend()\n",
        "plt.grid(True)\n",
        "plt.show()"
      ],
      "metadata": {
        "colab": {
          "base_uri": "https://localhost:8080/",
          "height": 971
        },
        "id": "MciZUONAd_Qk",
        "outputId": "40cd9658-0c27-4cc3-e903-ff4c0f0658ba"
      },
      "id": "MciZUONAd_Qk",
      "execution_count": null,
      "outputs": [
        {
          "output_type": "display_data",
          "data": {
            "text/plain": [
              "<Figure size 800x500 with 1 Axes>"
            ],
            "image/png": "[encoded data removed]"
          },
          "metadata": {}
        },
        {
          "output_type": "display_data",
          "data": {
            "text/plain": [
              "<Figure size 800x500 with 1 Axes>"
            ],
            "image/png": "[encoded data removed]"
          },
          "metadata": {}
        }
      ]
    },
    {
      "cell_type": "code",
      "execution_count": null,
      "id": "bp3tyS8-OBa2",
      "metadata": {
        "colab": {
          "base_uri": "https://localhost:8080/",
          "height": 17
        },
        "id": "bp3tyS8-OBa2",
        "outputId": "b6ec2ead-56d5-4729-8a71-29c1e56088e9"
      },
      "outputs": [
        {
          "output_type": "display_data",
          "data": {
            "text/plain": [
              "<IPython.core.display.HTML object>"
            ],
            "text/html": []
          },
          "metadata": {}
        }
      ],
      "source": [
        "predictions = trainer.predict(eval_dataset)\n",
        "metrics = compute_metrics(predictions)"
      ]
    },
    {
      "cell_type": "code",
      "execution_count": null,
      "id": "Wiu8YxZJOj7p",
      "metadata": {
        "colab": {
          "base_uri": "https://localhost:8080/",
          "height": 796
        },
        "id": "Wiu8YxZJOj7p",
        "outputId": "5eedf174-2ba2-4c0b-8975-27456657d98d"
      },
      "outputs": [
        {
          "output_type": "stream",
          "name": "stdout",
          "text": [
            "\n",
            "📊 Метрики классификации:\n",
            "Accuracy: 0.9931\n",
            "Precision: 0.9942\n",
            "Recall: 0.9923\n",
            "F1: 0.9932\n",
            "\n",
            "📄 Подробный отчёт:\n",
            "              precision    recall  f1-score   support\n",
            "\n",
            "        Ложь       0.99      0.99      0.99      1003\n",
            "      Правда       0.99      0.99      0.99      1037\n",
            "\n",
            "    accuracy                           0.99      2040\n",
            "   macro avg       0.99      0.99      0.99      2040\n",
            "weighted avg       0.99      0.99      0.99      2040\n",
            "\n"
          ]
        },
        {
          "output_type": "display_data",
          "data": {
            "text/plain": [
              "<Figure size 600x500 with 2 Axes>"
            ],
            "image/png": "[encoded data removed]"
          },
          "metadata": {}
        }
      ],
      "source": [
        "print(\"\\n📊 Метрики классификации:\")\n",
        "for metric_name, value in metrics.items():\n",
        "    print(f\"{metric_name.capitalize()}: {value:.4f}\")\n",
        "\n",
        "print(\"\\n📄 Подробный отчёт:\")\n",
        "print(classification_report(\n",
        "    predictions.label_ids,\n",
        "    np.argmax(predictions.predictions, axis=1),\n",
        "    target_names=[\"Ложь\", \"Правда\"]\n",
        "))\n",
        "\n",
        "cm = confusion_matrix(predictions.label_ids, np.argmax(predictions.predictions, axis=1))\n",
        "labels = np.array([[\"ИП\", \"ЛО\"],\n",
        "                   [\"ЛП\", \"ИО\"]])\n",
        "annot = np.empty_like(cm).astype(str)\n",
        "\n",
        "for i in range(2):\n",
        "    for j in range(2):\n",
        "        annot[i, j] = f\"{cm[i, j]}\\n{labels[i, j]}\"\n",
        "\n",
        "plt.figure(figsize=(6, 5))\n",
        "sns.heatmap(cm, annot=annot, fmt='', cmap='Blues',\n",
        "            xticklabels=[\"Ложь (предсказано)\", \"Правда (предсказано)\"],\n",
        "            yticklabels=[\"Ложь (истинно)\", \"Правда (истинно)\"])\n",
        "\n",
        "plt.xlabel('Предсказано', fontsize=14)\n",
        "plt.ylabel('Истинно', fontsize=14)\n",
        "plt.title('Матрица ошибок с обозначениями', fontsize=14)\n",
        "plt.xticks(fontsize=12)\n",
        "plt.yticks(fontsize=12)\n",
        "plt.tight_layout()\n",
        "plt.show()"
      ]
    },
    {
      "cell_type": "code",
      "execution_count": null,
      "id": "6tsPs5QN8ed4",
      "metadata": {
        "id": "6tsPs5QN8ed4"
      },
      "outputs": [],
      "source": [
        "# 8. Функция для классификации одной новости\n",
        "def classify_news(text: str) -> str:\n",
        "    clean = preprocess(text)\n",
        "    inputs = tokenizer(\n",
        "        clean,\n",
        "        return_tensors='pt',\n",
        "        padding='max_length',\n",
        "        truncation=True,\n",
        "        max_length=MAX_LEN\n",
        "    )\n",
        "    inputs = {k: v.to(model.device) for k, v in inputs.items()}\n",
        "    with torch.no_grad():\n",
        "        outputs = model(**inputs)\n",
        "    pred_id = torch.argmax(outputs.logits, dim=1).item()\n",
        "    return 'Ложная' if pred_id == 0 else 'Правдивая'"
      ]
    },
    {
      "cell_type": "code",
      "source": [],
      "metadata": {
        "id": "4zYIzyQNSV5Z"
      },
      "id": "4zYIzyQNSV5Z",
      "execution_count": null,
      "outputs": []
    },
    {
      "cell_type": "code",
      "execution_count": null,
      "id": "3ce93cad455cf3bf",
      "metadata": {
        "colab": {
          "base_uri": "https://localhost:8080/"
        },
        "id": "3ce93cad455cf3bf",
        "outputId": "413e13d9-3db5-47b5-f0ab-21e61419c91d"
      },
      "outputs": [
        {
          "output_type": "stream",
          "name": "stdout",
          "text": [
            "Текст новости: РИА Новости. Коты атаковали Белгородскую область\n",
            "Распознана как: Ложная\n"
          ]
        }
      ],
      "source": [
        "sample = 'РИА Новости. Коты атаковали Белгородскую область'\n",
        "print(f\"Текст новости: {sample}\\nРаспознана как: {classify_news(sample)}\")"
      ]
    }
  ],
  "metadata": {
    "accelerator": "GPU",
    "colab": {
      "gpuType": "T4",
      "provenance": []
    },
    "kernelspec": {
      "display_name": "Python 3",
      "name": "python3"
    },
    "language_info": {
      "codemirror_mode": {
        "name": "ipython",
        "version": 3
      },
      "file_extension": ".py",
      "mimetype": "text/x-python",
      "name": "python",
      "nbconvert_exporter": "python",
      "pygments_lexer": "ipython3",
      "version": "3.11.4"
    }
  },
  "nbformat": 4,
  "nbformat_minor": 5
}